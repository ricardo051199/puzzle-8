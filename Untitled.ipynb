{
 "cells": [
  {
   "cell_type": "code",
   "execution_count": 13,
   "id": "1efd8367",
   "metadata": {},
   "outputs": [
    {
     "name": "stdout",
     "output_type": "stream",
     "text": [
      "pygame 2.5.2 (SDL 2.28.3, Python 3.9.13)\n",
      "Hello from the pygame community. https://www.pygame.org/contribute.html\n"
     ]
    }
   ],
   "source": [
    "import random\n",
    "from AgenteSolucionador import AgenteSolucionador\n",
    "from Puzzle import Puzzle\n",
    "import pandas as pd"
   ]
  },
  {
   "cell_type": "code",
   "execution_count": 8,
   "id": "0ed6a403",
   "metadata": {},
   "outputs": [
    {
     "name": "stdout",
     "output_type": "stream",
     "text": [
      "(8, 1, 0, 3, 5, 4, 6, 2, 7)\n",
      "(8, 2, 4, 3, 0, 7, 6, 5, 1)\n",
      "(4, 5, 2, 8, 1, 3, 7, 6, 0)\n",
      "(7, 4, 8, 1, 3, 5, 2, 6, 0)\n",
      "(3, 4, 6, 7, 1, 0, 8, 5, 2)\n",
      "(2, 0, 8, 4, 5, 7, 3, 6, 1)\n",
      "(7, 0, 3, 6, 1, 4, 8, 2, 5)\n",
      "(6, 3, 8, 1, 4, 7, 5, 0, 2)\n",
      "(2, 5, 1, 7, 4, 0, 3, 6, 8)\n",
      "(3, 4, 6, 2, 7, 1, 8, 5, 0)\n"
     ]
    }
   ],
   "source": [
    "listas_aleatorias = [tuple(random.sample(range(9), 9)) for _ in range(1000)]"
   ]
  },
  {
   "cell_type": "code",
   "execution_count": 35,
   "id": "20620116",
   "metadata": {},
   "outputs": [],
   "source": [
    "with open('estados1000.txt', 'w') as archivo:\n",
    "    for lista in listas_aleatorias:\n",
    "        archivo.write(f\"{lista}\\n\")"
   ]
  },
  {
   "cell_type": "code",
   "execution_count": 36,
   "id": "fdaa7d94",
   "metadata": {},
   "outputs": [],
   "source": [
    "with open('estados1000.txt', 'r') as archivo:\n",
    "    for linea in archivo:\n",
    "        tupla = eval(linea.strip())\n",
    "        estados = list(tupla)"
   ]
  },
  {
   "cell_type": "code",
   "execution_count": 46,
   "id": "e64422e3",
   "metadata": {},
   "outputs": [
    {
     "ename": "TypeError",
     "evalue": "'int' object is not subscriptable",
     "output_type": "error",
     "traceback": [
      "\u001b[1;31m---------------------------------------------------------------------------\u001b[0m",
      "\u001b[1;31mTypeError\u001b[0m                                 Traceback (most recent call last)",
      "\u001b[1;32m~\\AppData\\Local\\Temp\\ipykernel_24104\\1379930027.py\u001b[0m in \u001b[0;36m<module>\u001b[1;34m\u001b[0m\n\u001b[0;32m      1\u001b[0m \u001b[1;31m# for estado_inicial in estados:\u001b[0m\u001b[1;33m\u001b[0m\u001b[1;33m\u001b[0m\u001b[0m\n\u001b[1;32m----> 2\u001b[1;33m \u001b[0mjuego\u001b[0m \u001b[1;33m=\u001b[0m \u001b[0mPuzzle\u001b[0m\u001b[1;33m(\u001b[0m\u001b[0mestado_inicial\u001b[0m\u001b[1;33m[\u001b[0m\u001b[1;36m0\u001b[0m\u001b[1;33m]\u001b[0m\u001b[1;33m)\u001b[0m  \u001b[1;31m# Crear instancia del juego con un estado inicial\u001b[0m\u001b[1;33m\u001b[0m\u001b[1;33m\u001b[0m\u001b[0m\n\u001b[0m\u001b[0;32m      3\u001b[0m \u001b[0mjuan\u001b[0m \u001b[1;33m=\u001b[0m \u001b[0mAgenteSolucionador\u001b[0m\u001b[1;33m(\u001b[0m\u001b[1;33m)\u001b[0m\u001b[1;33m\u001b[0m\u001b[1;33m\u001b[0m\u001b[0m\n\u001b[0;32m      4\u001b[0m \u001b[0mjuan\u001b[0m\u001b[1;33m.\u001b[0m\u001b[0mset_tecnica\u001b[0m\u001b[1;33m(\u001b[0m\u001b[1;34m\"codicioso\"\u001b[0m\u001b[1;33m)\u001b[0m\u001b[1;33m\u001b[0m\u001b[1;33m\u001b[0m\u001b[0m\n\u001b[0;32m      5\u001b[0m \u001b[0mjuan\u001b[0m\u001b[1;33m.\u001b[0m\u001b[0mset_heuristica\u001b[0m\u001b[1;33m(\u001b[0m\u001b[1;34m\"manhattan\"\u001b[0m\u001b[1;33m)\u001b[0m\u001b[1;33m\u001b[0m\u001b[1;33m\u001b[0m\u001b[0m\n",
      "\u001b[1;31mTypeError\u001b[0m: 'int' object is not subscriptable"
     ]
    }
   ],
   "source": [
    "# for estado_inicial in estados:\n",
    "juego = Puzzle(estado_inicial[0])  # Crear instancia del juego con un estado inicial\n",
    "juan = AgenteSolucionador()\n",
    "juan.set_tecnica(\"codicioso\")\n",
    "juan.set_heuristica(\"manhattan\")\n",
    "juego.insertar(juan)\n",
    "juego.run()  # Ejecutar el juego\n",
    "resultado = juego.obtener_informacion_buscador(juan)  # Llamar el método correctamente\n",
    "resultados.append(resultado)  # Guardar el resultado\n",
    "\n",
    "# Imprimir o manejar los resultados como desees\n",
    "for resultado in resultados:\n",
    "    print(resultado)"
   ]
  },
  {
   "cell_type": "code",
   "execution_count": null,
   "id": "2cea3b7c",
   "metadata": {},
   "outputs": [],
   "source": []
  }
 ],
 "metadata": {
  "kernelspec": {
   "display_name": "Python 3 (ipykernel)",
   "language": "python",
   "name": "python3"
  },
  "language_info": {
   "codemirror_mode": {
    "name": "ipython",
    "version": 3
   },
   "file_extension": ".py",
   "mimetype": "text/x-python",
   "name": "python",
   "nbconvert_exporter": "python",
   "pygments_lexer": "ipython3",
   "version": "3.9.13"
  }
 },
 "nbformat": 4,
 "nbformat_minor": 5
}
